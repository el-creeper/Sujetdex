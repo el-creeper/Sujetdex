{
 "cells": [
  {
   "cell_type": "code",
   "execution_count": 368,
   "metadata": {},
   "outputs": [
    {
     "name": "stdout",
     "output_type": "stream",
     "text": [
      "Chargement de j:\\01 Fichier\\05 Code\\99 - Autre\\02 Sujetdex\\gestion_database.py\n"
     ]
    },
    {
     "data": {
      "text/plain": [
       "<module 'gestion_database' from 'j:\\\\01 Fichier\\\\05 Code\\\\99 - Autre\\\\02 Sujetdex\\\\gestion_database.py'>"
      ]
     },
     "execution_count": 368,
     "metadata": {},
     "output_type": "execute_result"
    }
   ],
   "source": [
    "import sys\n",
    "sys.path.append(\"j:/01 Fichier/05 Code/99 - Autre/02 Sujetdex/\")\n",
    "import requests\n",
    "from bs4 import BeautifulSoup\n",
    "import os\n",
    "import re\n",
    "from PyPDF2 import PdfReader\n",
    "import importlib\n",
    "import gestion_database as gd\n",
    "importlib.reload(gd)"
   ]
  },
  {
   "cell_type": "code",
   "execution_count": 369,
   "metadata": {},
   "outputs": [],
   "source": [
    "def extract_links_from_page(url):\n",
    "    \"\"\"\n",
    "    Extracts all hyperlinks from a webpage.\n",
    "\n",
    "    Parameters:\n",
    "        url (str): The URL of the webpage to scrape.\n",
    "\n",
    "    Returns:\n",
    "        list: A list of URLs found on the page.\n",
    "    \"\"\"\n",
    "    try:\n",
    "        # Make an HTTP request to fetch the page content\n",
    "        response = requests.get(url)\n",
    "        response.raise_for_status()\n",
    "    except requests.exceptions.RequestException as e:\n",
    "        print(f\"Error fetching the page: {e}\")\n",
    "        return []\n",
    "\n",
    "    # Parse the HTML content\n",
    "    soup = BeautifulSoup(response.text, 'html.parser')\n",
    "\n",
    "    # Find all <a> tags with an href attribute\n",
    "    links = [requests.compat.urljoin(url, link['href']) for link in soup.find_all('a', href=True)]\n",
    "\n",
    "    return links\n",
    "\n",
    "visited_links = {}\n",
    "\n",
    "def fetch_files_from_page(url, output_folder=\"downloads\", file_extensions=(\"pdf\", \"doc\", \"docx\"), filter_function=None):\n",
    "    \"\"\"\n",
    "    Fetches all files with specified extensions from a given URL and saves them locally.\n",
    "\n",
    "    Parameters:\n",
    "        url (str): The URL of the webpage to scrape.\n",
    "        output_folder (str): The folder to save the downloaded files. Defaults to \"downloads\".\n",
    "        file_extensions (tuple): File extensions to download. Defaults to (\"pdf\", \"doc\", \"docx\").\n",
    "        filter_function (callable): A function that takes a file name as input and returns True if the file should be downloaded, False otherwise. Defaults to None.\n",
    "\n",
    "    Returns:\n",
    "        list: List of downloaded file paths.\n",
    "    \"\"\"\n",
    "    # Dictionary to track visited links and avoid duplicates\n",
    "    \n",
    "\n",
    "    # Get all links from the page\n",
    "    all_links = extract_links_from_page(url)\n",
    "    file_links = []\n",
    "\n",
    "    for file_url in all_links:\n",
    "        # Skip if the link has already been processed\n",
    "        if file_url in visited_links:\n",
    "            continue\n",
    "\n",
    "        # Mark the link as visited\n",
    "        visited_links[file_url] = True\n",
    "\n",
    "        # Check file extension\n",
    "        if file_url.split('.')[-1].lower() in file_extensions:\n",
    "            file_links.append(file_url)\n",
    "\n",
    "    # Ensure output folder exists\n",
    "    if not os.path.exists(output_folder):\n",
    "        os.makedirs(output_folder)\n",
    "\n",
    "    downloaded_files = []\n",
    "\n",
    "    # Download each file\n",
    "    for file_url in file_links:\n",
    "        try:\n",
    "            file_response = requests.get(file_url, stream=True)\n",
    "            file_response.raise_for_status()\n",
    "\n",
    "            # Extract the file name\n",
    "            file_name = os.path.basename(file_url)\n",
    "\n",
    "            # Apply the filter function if provided\n",
    "            if filter_function and not filter_function(file_name):\n",
    "                print(f\"Skipped: {file_name}\")\n",
    "                continue\n",
    "\n",
    "            output_path = os.path.join(output_folder, file_name)\n",
    "\n",
    "            # Save the file locally\n",
    "            with open(output_path, 'wb') as f:\n",
    "                for chunk in file_response.iter_content(chunk_size=8192):\n",
    "                    f.write(chunk)\n",
    "\n",
    "            downloaded_files.append(output_path)\n",
    "            print(f\"Downloaded: {file_name}\")\n",
    "        except requests.exceptions.RequestException as e:\n",
    "            print(f\"Failed to download {file_url}: {e}\")\n",
    "\n",
    "    return downloaded_files"
   ]
  },
  {
   "cell_type": "code",
   "execution_count": 370,
   "metadata": {},
   "outputs": [],
   "source": [
    "def link_all_files(folder: str) -> list[str]:\n",
    "    \"\"\"Fonction qui renvoie tout les fichiers pdf d'un dossier et de ses sous-dossiers\n",
    "    \n",
    "    param folder: le chemin du dossier à explorer\n",
    "    type folder: str\n",
    "    return: la liste des fichiers pdf\n",
    "    rtype: list[str]\n",
    "    \"\"\"\n",
    "    linked_files = []\n",
    "\n",
    "    for root, _, files in os.walk(folder):\n",
    "        for file in files:\n",
    "            file_path = os.path.join(root, file)\n",
    "            linked_files.append(file_path)\n",
    "\n",
    "    return linked_files"
   ]
  },
  {
   "cell_type": "markdown",
   "metadata": {},
   "source": [
    "# Fonction en lien avec le PDF"
   ]
  },
  {
   "cell_type": "code",
   "execution_count": 371,
   "metadata": {},
   "outputs": [],
   "source": [
    "def extract_text_from_pdf(file_path:str) -> list[str]:\n",
    "    \"\"\"Fonction qui renvoie le texte du PDF \n",
    "\n",
    "    :param file_path: lien du fichier\n",
    "    :type file_path: str\n",
    "    \"\"\"\n",
    "    with open(file_path, 'rb') as pdf_file:\n",
    "        pdf_reader = PdfReader(pdf_file)\n",
    "        pages = pdf_reader.pages\n",
    "        resultats = [page.extract_text() for page in pages]\n",
    "        return resultats"
   ]
  },
  {
   "cell_type": "code",
   "execution_count": 372,
   "metadata": {},
   "outputs": [],
   "source": [
    "def extract_text_of_page_from_pdf(file_path:str, i: int) -> str:\n",
    "    \"\"\"Fonction qui renvoie la page spécifiée d'un document pdf.\n",
    "\n",
    "    :param file_path: lien du fichier\n",
    "    :type file_path: str\n",
    "    :param i: numero de la page a extraire (commence avec la page 1)\n",
    "    :type i: int\n",
    "    :return: Text de la page\n",
    "    :rtype: str\n",
    "    \"\"\"    \n",
    "    with open(file_path, 'rb') as pdf_file:\n",
    "        pdf_reader = PdfReader(pdf_file)\n",
    "        pages = pdf_reader.pages\n",
    "        try:\n",
    "            resultats = pages[i-1].extract_text()\n",
    "            return resultats\n",
    "        except IndexError:\n",
    "            raise Exception(\"La page demandée n'existe pas\")\n",
    "        \n",
    "    "
   ]
  },
  {
   "cell_type": "code",
   "execution_count": 373,
   "metadata": {},
   "outputs": [],
   "source": [
    "def extract_first_page_from_pdf(file_path:str) -> str:\n",
    "    return extract_text_of_page_from_pdf(file_path, 1)"
   ]
  },
  {
   "cell_type": "markdown",
   "metadata": {},
   "source": [
    "# Centrale"
   ]
  },
  {
   "cell_type": "code",
   "execution_count": 374,
   "metadata": {},
   "outputs": [],
   "source": [
    "baselink = \"https://www.concours-centrale-supelec.fr/CentraleSupelec\"\n",
    "annee = [i for i in range(1998,2025)]\n",
    "filiere = [\"MP\",\"PC\",\"MPI\",\"PSI\",\"TSI\"]\n",
    "sujet = [\"\",\"sujets\"]"
   ]
  },
  {
   "cell_type": "code",
   "execution_count": 375,
   "metadata": {},
   "outputs": [],
   "source": [
    "def supprimer_fichiers_contenant_recursivement(repertoire: str, chaine_a_chercher: str) -> None:\n",
    "    \"\"\"Supprime tous les fichiers dans un répertoire et ses sous-répertoires\n",
    "    dont le nom contient une chaîne de caractères spécifique.\n",
    "\n",
    "    :param repertoire: Chemin du répertoire où commencer la recherche\n",
    "    :type repertoire: str\n",
    "    :param chaine_a_chercher: Chaîne de caractères à chercher dans les noms de fichiers\n",
    "    :type chaine_a_chercher: str\n",
    "    :return: Cette fonction ne retourne rien\n",
    "    :rtype: None\n",
    "    \"\"\"\n",
    "    for root, dirs, files in os.walk(repertoire):\n",
    "        for file in files:\n",
    "            if chaine_a_chercher in file:\n",
    "                chemin_complet = os.path.join(root, file)\n",
    "                os.remove(chemin_complet)\n",
    "                print(f\"Fichier supprimé : {chemin_complet}\")\n"
   ]
  },
  {
   "cell_type": "code",
   "execution_count": 376,
   "metadata": {},
   "outputs": [
    {
     "data": {
      "text/plain": [
       "'for f in filiere:\\n    for a in annee:\\n        for sujets in sujet:\\n            url = f\"{baselink}/{a}/{f}/{sujets}\"\\n            fetch_files_from_page(url, output_folder=f\"data/centrale/{f}/{a}\", filter_function=filtre)'"
      ]
     },
     "execution_count": 376,
     "metadata": {},
     "output_type": "execute_result"
    }
   ],
   "source": [
    "\"\"\"for f in filiere:\n",
    "    for a in annee:\n",
    "        for sujets in sujet:\n",
    "            url = f\"{baselink}/{a}/{f}/{sujets}\"\n",
    "            fetch_files_from_page(url, output_folder=f\"data/centrale/{f}/{a}\", filter_function=filtre)\"\"\""
   ]
  },
  {
   "cell_type": "code",
   "execution_count": 377,
   "metadata": {},
   "outputs": [],
   "source": [
    "def supprimer_fichiers_contenant_recursivement(repertoire: str, chaine_a_chercher: str) -> None:\n",
    "    \"\"\"Supprime tous les fichiers dans un répertoire et ses sous-répertoires\n",
    "    dont le nom contient une chaîne de caractères spécifique.\n",
    "\n",
    "    :param repertoire: Chemin du répertoire où commencer la recherche\n",
    "    :type repertoire: str\n",
    "    :param chaine_a_chercher: Chaîne de caractères à rechercher dans les noms de fichiers\n",
    "    :type chaine_a_chercher: str\n",
    "    :return: Cette fonction ne retourne rien\n",
    "    :rtype: None\n",
    "    \"\"\"\n",
    "    for root, dirs, files in os.walk(repertoire):\n",
    "        for file in files:\n",
    "            if chaine_a_chercher in file:\n",
    "                chemin_complet = os.path.join(root, file)\n",
    "                os.remove(chemin_complet)\n",
    "                print(f\"Fichier supprimé : {chemin_complet}\")\n"
   ]
  },
  {
   "cell_type": "code",
   "execution_count": 378,
   "metadata": {},
   "outputs": [
    {
     "data": {
      "text/plain": [
       "'supprimer_fichiers_contenant_recursivement(repertoire= \"data\", chaine_a_chercher = \"TSI\")'"
      ]
     },
     "execution_count": 378,
     "metadata": {},
     "output_type": "execute_result"
    }
   ],
   "source": [
    "\"\"\"supprimer_fichiers_contenant_recursivement(repertoire= \"data\", chaine_a_chercher = \"TSI\")\"\"\""
   ]
  },
  {
   "cell_type": "code",
   "execution_count": 379,
   "metadata": {},
   "outputs": [],
   "source": [
    "def extraire_titres_et_questions(fichier_pdf: str) -> list:\n",
    "    \"\"\"Extrait les titres et numéros de questions d'un fichier PDF.\n",
    "\n",
    "    :param fichier_pdf: Chemin vers le fichier PDF\n",
    "    :type fichier_pdf: str\n",
    "    :return: Liste des numéros de questions extraites du fichier PDF\n",
    "    :rtype: list\n",
    "    \"\"\"\n",
    "    with open(fichier_pdf, 'rb') as pdf_file:\n",
    "        pdf_reader = PdfReader(pdf_file)\n",
    "        pages = pdf_reader.pages\n",
    "\n",
    "        resultats = []\n",
    "        for page in pages:\n",
    "            texte_page = page.extract_text()\n",
    "            pattern = r\"Q\\s*(\\d+[A-Z]?\\d*\\)?)\\.?\\s+(.*)\" \n",
    "            matches = re.findall(pattern, texte_page, re.MULTILINE)\n",
    "            \n",
    "            for match in matches:\n",
    "                if match:\n",
    "                    numero_question, titre = match\n",
    "                    resultats.append((numero_question.strip()))\n",
    "\n",
    "        return resultats\n"
   ]
  },
  {
   "cell_type": "code",
   "execution_count": 380,
   "metadata": {},
   "outputs": [],
   "source": [
    "def get_nom_epreuve(file: str) -> str:\n",
    "    \"\"\"Donne le nom de l'épreuve à partir du fichier PDF.\n",
    "\n",
    "    :param file: Lien du fichier PDF\n",
    "    :type file: str\n",
    "    :return: Nom de l'épreuve\n",
    "    :rtype: str\n",
    "    \"\"\"\n",
    "    page = extract_first_page_from_pdf(file)\n",
    "    page_couper = page.split(\"\\n\")\n",
    "\n",
    "    for ligne in page_couper:\n",
    "        ligne = ligne.strip()\n",
    "\n",
    "        # Ignorer les lignes contenant une date (français, anglais, portugais, format ISO, etc.)\n",
    "        if re.search(r\"(?:\\w{3,9} \\d{1,2},? \\d{4}|\\d{4}-\\d{2}-\\d{2}).*Page ?\\d+/\\d+\", ligne, re.IGNORECASE):\n",
    "            continue\n",
    "\n",
    "        # Ignorer les codes du type \"S013/2021-11-24\"\n",
    "        if re.match(r\"[A-Z]?\\d{3,4}/\\d{4}-\\d{2}-\\d{2}\", ligne):\n",
    "            continue\n",
    "\n",
    "        # Séparer une année collée au titre (ex: \"2011Portugais\" → \"Portugais\")\n",
    "        ligne = re.sub(r\"^\\d{4}.*\\s*.*\", \"\", ligne).strip()\n",
    "\n",
    "        # Vérifier si la ligne peut être un titre (pas vide, ne commence pas par un chiffre, etc.)\n",
    "        if ligne and not ligne[0].isdigit() and len(ligne.split()) <= 3:\n",
    "            return ligne  # On retourne le premier titre valide trouvé\n",
    "\n",
    "    return \"\"  # Retourne une chaîne vide si aucun titre n'est trouvé\n"
   ]
  },
  {
   "cell_type": "code",
   "execution_count": 381,
   "metadata": {},
   "outputs": [],
   "source": [
    "def get_all_epreuve_name(folder:str)-> set[str]:\n",
    "    \"\"\"Renvoie tout les noms d'épreuves\n",
    "\n",
    "    :param folder: chemin du dossier\n",
    "    :type folder: str\n",
    "    :return: tout les noms d'épreuves\n",
    "    :rtype: set[str]\n",
    "    \"\"\"\n",
    "\n",
    "    if os.listdir(folder) != []:\n",
    "        liste_results = [extract_first_page_from_pdf(file) for file in link_all_files(folder)]\n",
    "        liste_cut_results = [result.split(\"\\n\") for result in liste_results]\n",
    "        liste_nom = [result[1] for result in liste_cut_results]\n",
    "        \n",
    "        # On enelve l'année devant la matiere\n",
    "        liste_nv_deb  = [re.sub(r\"\\d*.? ?\",\"\" ,nom[:4]) for nom in liste_nom]\n",
    "        liste_nv_nom = [deb+nom[4:] for deb,nom in zip(liste_nv_deb,liste_nom)]\n",
    "        \n",
    "        for i in range(len(liste_nv_nom)):\n",
    "            if liste_nv_nom[i] == '..':\n",
    "                liste_nom[i] = liste_results[i].split(\"\\n\")[2]\n",
    "                liste_nv_deb[i] = re.sub(r\"\\d\\.*\\s*.*\",\"\" ,liste_nom[i][:4])\n",
    "                liste_nv_nom[i] = liste_nv_deb[i]+liste_nom[i][4:]\n",
    "        \n",
    "        d:set = set()           \n",
    "        for nom in liste_nv_nom:\n",
    "            d.add(nom)\n",
    "            \n",
    "    return d\n"
   ]
  },
  {
   "cell_type": "code",
   "execution_count": 382,
   "metadata": {},
   "outputs": [],
   "source": [
    "#all_epreuve = get_all_epreuve_name(r\"data/centrale\")"
   ]
  },
  {
   "cell_type": "code",
   "execution_count": 383,
   "metadata": {},
   "outputs": [],
   "source": [
    "def initialise_liste_epreuve():\n",
    "    \"\"\"Parcours toutes les filières du dossier centrale et initialise la liste des epreuves\n",
    "    Elle met donc a jour la base de donnee database.db\n",
    "    \"\"\"\n",
    "    list_epreuve = []\n",
    "    for f in filiere:\n",
    "        all_epreuve = get_all_epreuve_name(r\"data/centrale/\"+f)\n",
    "        for epreuve in all_epreuve:\n",
    "            list_epreuve.append(gd.Epreuve(epreuve, f))"
   ]
  },
  {
   "cell_type": "code",
   "execution_count": 384,
   "metadata": {},
   "outputs": [],
   "source": [
    "def rename_epreuve(lien_epreuve:str, nv_nom:str) -> None:\n",
    "    \"\"\"Renomme une epreuve\n",
    "\n",
    "    :param lien_epreuve: lien vers le fichier de l'epreuve\n",
    "    :type lien_epreuve: str\n",
    "    :param nv_nom: le nouveau nom de l'epreuve\n",
    "    :type nv_nom: str\n",
    "    \"\"\"\n",
    "    try :os.rename(lien_epreuve, nv_nom)\n",
    "    except:\n",
    "        print(\"Erreur lors du renommage \", lien_epreuve, nv_nom)"
   ]
  },
  {
   "cell_type": "code",
   "execution_count": 385,
   "metadata": {},
   "outputs": [],
   "source": [
    "def rename_all_epreuve(dossier:str) -> None:\n",
    "    \"\"\"Renomme toute les epreves du dossier par nom\n",
    "    Ainsi l'arborescences des fichiers donne :\n",
    "    1/ Banque\n",
    "    2/ Filiere\n",
    "    3/ Annee\n",
    "    4/ Epreuve\n",
    "\n",
    "    :param dossier: lien du dossier ou il faut modifier les noms\n",
    "    :type dossier: str\n",
    "    \"\"\"\n",
    "    for f in filiere:\n",
    "        for a in annee:\n",
    "            liste_lien = link_all_files(dossier+\"/\"+f+\"/\"+str(a)+\"/\")\n",
    "            liste_nom = [get_nom_epreuve(file) for file in liste_lien]\n",
    "            for i in range(len(liste_nom)):\n",
    "                if liste_nom[i] == liste_lien[i]:\n",
    "                    liste_nom.pop(i)\n",
    "                    liste_lien.pop(i)\n",
    "            for i in range(len(liste_nom)):\n",
    "                try : liste_nom[i] = dossier+\"/\"+f+\"/\"+str(a)+\"/\"+liste_nom[i]+\".pdf\"\n",
    "                except : print(\"Erreur lors de l'envoie du renommage de  : \",liste_lien[i] ,liste_nom[i])\n",
    "            for lien,nom in zip(liste_lien,liste_nom):\n",
    "                rename_epreuve(lien, nom)"
   ]
  },
  {
   "cell_type": "code",
   "execution_count": 386,
   "metadata": {},
   "outputs": [
    {
     "name": "stdout",
     "output_type": "stream",
     "text": [
      "Erreur lors du renommage  data/centrale/MP/2012/.S2I.pdf data/centrale/MP/2012/...pdf\n"
     ]
    }
   ],
   "source": [
    "rename_all_epreuve(r\"data/centrale\")"
   ]
  },
  {
   "cell_type": "code",
   "execution_count": 387,
   "metadata": {},
   "outputs": [
    {
     "name": "stdout",
     "output_type": "stream",
     "text": [
      "30 avril 2012 10:01 Page 1/12\n",
      "..\n",
      "2012 .S2I\n",
      ".MP\n",
      ". 4 heures . Calculatrices autorisées\n",
      "Récupération d’énergie au\n",
      "freinage sur véhicules électriques\n",
      "Pour réduire l’empreinte carbone du secteur transport des particuliers, plusieurs constructeurs automobiles\n",
      "développent des véhicules électriques avec des systèmes de récupération d’énergie au freinage. Le principe de\n",
      "récupération d’énergie est identique chez tous les constructeurs mais la réalisation et les algorithmes diﬀèrent\n",
      "quelque peu. Le support utilisé comme illustration de ce principe innovant est la Renault « Fluence Zéro\n",
      "Émission » commercialisée courant 2012 en Europe. Aﬁn de respecter la conﬁdentialité du développement de ce\n",
      "véhicule, les données ont été modiﬁées pour les besoins de ce sujet et les cas d’usage étudiés sont limitatifs.\n",
      "..Électronique\n",
      "puissance\n",
      ".Machine\n",
      "électrique\n",
      ".T ransmission\n",
      "mécanique\n",
      ".\n",
      ".Énergie récupérable\n",
      "40%\n",
      ".Énergie récupérée\n",
      "≈30%\n",
      ".Pertes 20%\n",
      ".Pertes 5%\n",
      ".Pertes 5%\n",
      ".Pertes aérodynamiques\n",
      "18%\n",
      ".Pertes résistance\n",
      "roulement 12%\n",
      ".Pertes dans les freins mécaniques\n",
      "40% en l’absence de récupération .Consommateurs\n",
      "Pertes 4%\n",
      "Figure 1 Bilan énergétique d’un véhicule électrique\n",
      "Les chiﬀres de la ﬁgure 1 correspondent à un point de fonctionnement moyen pour un cycle de roulage donné\n",
      "et ne doivent pas être généralisés.\n",
      "I Pertinence de la récupération d’énergie au freinage\n",
      "Objectif\n",
      "V alider la pertinence d’un système de récupération d’énergie au freinage et mettre en évidence les\n",
      "limites d’un freinage purement électrique.\n",
      "I.A – Analyse fonctionnel le externe\n",
      "Aﬁn de minimiser la consommation électrique des véhicules électriques, une solution consiste à récupérer l’énergie\n",
      "cinétique et/ou potentielle du véhicule lors des phases de freinage. Pour cela, on exploite la réversibilité de la\n",
      "chaîne d’énergie électrique en faisant fonctionner l’actionneur électrique de la chaîne de transmission en mode\n",
      "générateur.\n",
      "Le système de récupération d’énergie lors des freinages obéit au cahier des charges suivant :\n",
      "..Système de freinage\n",
      "avec récupération.Conducteur\n",
      ".Batterie\n",
      ".\n",
      "Véhicule.FS3\n",
      ".FS2\n",
      ".FS1\n",
      ".\n",
      "FS4\n",
      "Figure 2 Diagramme des interacteurs\n",
      "> .. <\n"
     ]
    }
   ],
   "source": [
    "lien = f\"data/centrale/MP/2012/.S2I.pdf\"\n",
    "print(extract_first_page_from_pdf(lien))\n",
    "print(\">\",get_nom_epreuve(lien),\"<\")"
   ]
  },
  {
   "cell_type": "code",
   "execution_count": null,
   "metadata": {},
   "outputs": [],
   "source": []
  }
 ],
 "metadata": {
  "kernelspec": {
   "display_name": "Python 3",
   "language": "python",
   "name": "python3"
  },
  "language_info": {
   "codemirror_mode": {
    "name": "ipython",
    "version": 3
   },
   "file_extension": ".py",
   "mimetype": "text/x-python",
   "name": "python",
   "nbconvert_exporter": "python",
   "pygments_lexer": "ipython3",
   "version": "3.12.4"
  }
 },
 "nbformat": 4,
 "nbformat_minor": 2
}
